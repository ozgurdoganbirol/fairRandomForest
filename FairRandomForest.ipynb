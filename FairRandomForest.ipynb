{
 "cells": [
  {
   "cell_type": "markdown",
   "id": "888ada15",
   "metadata": {},
   "source": [
    "### Fair Random Forest\n",
    "\n",
    "This notebook investigates the possibility of weighing the decisions of the trees of a random forest ensemble to mitigate the bias of the ensemble model. We work with the banking dataset of UCI Machine Learning database.\n",
    "\n",
    "Workflow: \n",
    "\n",
    "- Data ingestion <br>\n",
    "- Create \"gender_male\" synthetic feature <br>\n",
    "- Calculate disparate impact for \"gender_male\" <br>\n",
    "- Model training: Random forest <br>\n",
    "- Calculate difference of equality (diff eoo) of opportunity of model for \"gender_male\" <br>\n",
    "- Calculate diff eoo and accuracies for predictions of each tree in ensemble <br>\n",
    "- Weight trees accordingly with their diff eoo's. <br>\n",
    "- Predict with new weights and calculate diff eoo of model<br>\n",
    "- Comment on results<br>\n",
    "- Repeat procedure for \"job_student\" variable<br>\n",
    "- Comment on results<br>\n",
    "- Test different alpha values for weight distribution"
   ]
  },
  {
   "cell_type": "code",
   "execution_count": 1,
   "id": "1d2a9b4f",
   "metadata": {},
   "outputs": [],
   "source": [
    "import pandas as pd\n",
    "import numpy as np\n",
    "from sklearn.ensemble import RandomForestClassifier\n",
    "from sklearn.model_selection import train_test_split\n",
    "from sklearn.metrics import accuracy_score,confusion_matrix, ConfusionMatrixDisplay\n",
    "import matplotlib.pyplot as plt"
   ]
  },
  {
   "cell_type": "code",
   "execution_count": 2,
   "id": "8dbde0ce",
   "metadata": {},
   "outputs": [
    {
     "data": {
      "text/html": [
       "<div>\n",
       "<style scoped>\n",
       "    .dataframe tbody tr th:only-of-type {\n",
       "        vertical-align: middle;\n",
       "    }\n",
       "\n",
       "    .dataframe tbody tr th {\n",
       "        vertical-align: top;\n",
       "    }\n",
       "\n",
       "    .dataframe thead th {\n",
       "        text-align: right;\n",
       "    }\n",
       "</style>\n",
       "<table border=\"1\" class=\"dataframe\">\n",
       "  <thead>\n",
       "    <tr style=\"text-align: right;\">\n",
       "      <th></th>\n",
       "      <th>age</th>\n",
       "      <th>job</th>\n",
       "      <th>marital</th>\n",
       "      <th>education</th>\n",
       "      <th>default</th>\n",
       "      <th>balance</th>\n",
       "      <th>housing</th>\n",
       "      <th>loan</th>\n",
       "      <th>contact</th>\n",
       "      <th>day</th>\n",
       "      <th>month</th>\n",
       "      <th>duration</th>\n",
       "      <th>campaign</th>\n",
       "      <th>pdays</th>\n",
       "      <th>previous</th>\n",
       "      <th>poutcome</th>\n",
       "      <th>y</th>\n",
       "    </tr>\n",
       "  </thead>\n",
       "  <tbody>\n",
       "    <tr>\n",
       "      <th>0</th>\n",
       "      <td>58</td>\n",
       "      <td>management</td>\n",
       "      <td>married</td>\n",
       "      <td>tertiary</td>\n",
       "      <td>no</td>\n",
       "      <td>2143</td>\n",
       "      <td>yes</td>\n",
       "      <td>no</td>\n",
       "      <td>unknown</td>\n",
       "      <td>5</td>\n",
       "      <td>5</td>\n",
       "      <td>261</td>\n",
       "      <td>1</td>\n",
       "      <td>-1</td>\n",
       "      <td>0</td>\n",
       "      <td>unknown</td>\n",
       "      <td>no</td>\n",
       "    </tr>\n",
       "    <tr>\n",
       "      <th>1</th>\n",
       "      <td>44</td>\n",
       "      <td>technician</td>\n",
       "      <td>single</td>\n",
       "      <td>secondary</td>\n",
       "      <td>no</td>\n",
       "      <td>29</td>\n",
       "      <td>yes</td>\n",
       "      <td>no</td>\n",
       "      <td>unknown</td>\n",
       "      <td>5</td>\n",
       "      <td>5</td>\n",
       "      <td>151</td>\n",
       "      <td>1</td>\n",
       "      <td>-1</td>\n",
       "      <td>0</td>\n",
       "      <td>unknown</td>\n",
       "      <td>no</td>\n",
       "    </tr>\n",
       "    <tr>\n",
       "      <th>2</th>\n",
       "      <td>33</td>\n",
       "      <td>entrepreneur</td>\n",
       "      <td>married</td>\n",
       "      <td>secondary</td>\n",
       "      <td>no</td>\n",
       "      <td>2</td>\n",
       "      <td>yes</td>\n",
       "      <td>yes</td>\n",
       "      <td>unknown</td>\n",
       "      <td>5</td>\n",
       "      <td>5</td>\n",
       "      <td>76</td>\n",
       "      <td>1</td>\n",
       "      <td>-1</td>\n",
       "      <td>0</td>\n",
       "      <td>unknown</td>\n",
       "      <td>no</td>\n",
       "    </tr>\n",
       "    <tr>\n",
       "      <th>3</th>\n",
       "      <td>47</td>\n",
       "      <td>blue-collar</td>\n",
       "      <td>married</td>\n",
       "      <td>unknown</td>\n",
       "      <td>no</td>\n",
       "      <td>1506</td>\n",
       "      <td>yes</td>\n",
       "      <td>no</td>\n",
       "      <td>unknown</td>\n",
       "      <td>5</td>\n",
       "      <td>5</td>\n",
       "      <td>92</td>\n",
       "      <td>1</td>\n",
       "      <td>-1</td>\n",
       "      <td>0</td>\n",
       "      <td>unknown</td>\n",
       "      <td>no</td>\n",
       "    </tr>\n",
       "    <tr>\n",
       "      <th>4</th>\n",
       "      <td>33</td>\n",
       "      <td>unknown</td>\n",
       "      <td>single</td>\n",
       "      <td>unknown</td>\n",
       "      <td>no</td>\n",
       "      <td>1</td>\n",
       "      <td>no</td>\n",
       "      <td>no</td>\n",
       "      <td>unknown</td>\n",
       "      <td>5</td>\n",
       "      <td>5</td>\n",
       "      <td>198</td>\n",
       "      <td>1</td>\n",
       "      <td>-1</td>\n",
       "      <td>0</td>\n",
       "      <td>unknown</td>\n",
       "      <td>no</td>\n",
       "    </tr>\n",
       "  </tbody>\n",
       "</table>\n",
       "</div>"
      ],
      "text/plain": [
       "   age           job  marital  education default  balance housing loan  \\\n",
       "0   58    management  married   tertiary      no     2143     yes   no   \n",
       "1   44    technician   single  secondary      no       29     yes   no   \n",
       "2   33  entrepreneur  married  secondary      no        2     yes  yes   \n",
       "3   47   blue-collar  married    unknown      no     1506     yes   no   \n",
       "4   33       unknown   single    unknown      no        1      no   no   \n",
       "\n",
       "   contact  day  month  duration  campaign  pdays  previous poutcome   y  \n",
       "0  unknown    5      5       261         1     -1         0  unknown  no  \n",
       "1  unknown    5      5       151         1     -1         0  unknown  no  \n",
       "2  unknown    5      5        76         1     -1         0  unknown  no  \n",
       "3  unknown    5      5        92         1     -1         0  unknown  no  \n",
       "4  unknown    5      5       198         1     -1         0  unknown  no  "
      ]
     },
     "execution_count": 2,
     "metadata": {},
     "output_type": "execute_result"
    }
   ],
   "source": [
    "df=pd.read_csv(\"bank-full.csv\",sep=\";\") #Read data as pandas dataframe\n",
    "df[\"month\"]=pd.to_datetime(df.month,format=\"%b\").dt.month #Parse month text and retrieve numbers instead\n",
    "df.head()"
   ]
  },
  {
   "cell_type": "code",
   "execution_count": 3,
   "id": "ca380449",
   "metadata": {},
   "outputs": [
    {
     "data": {
      "text/html": [
       "<div>\n",
       "<style scoped>\n",
       "    .dataframe tbody tr th:only-of-type {\n",
       "        vertical-align: middle;\n",
       "    }\n",
       "\n",
       "    .dataframe tbody tr th {\n",
       "        vertical-align: top;\n",
       "    }\n",
       "\n",
       "    .dataframe thead th {\n",
       "        text-align: right;\n",
       "    }\n",
       "</style>\n",
       "<table border=\"1\" class=\"dataframe\">\n",
       "  <thead>\n",
       "    <tr style=\"text-align: right;\">\n",
       "      <th></th>\n",
       "      <th>age</th>\n",
       "      <th>balance</th>\n",
       "      <th>day</th>\n",
       "      <th>month</th>\n",
       "      <th>duration</th>\n",
       "      <th>campaign</th>\n",
       "      <th>pdays</th>\n",
       "      <th>previous</th>\n",
       "      <th>job_blue-collar</th>\n",
       "      <th>job_entrepreneur</th>\n",
       "      <th>...</th>\n",
       "      <th>education_unknown</th>\n",
       "      <th>default_yes</th>\n",
       "      <th>housing_yes</th>\n",
       "      <th>loan_yes</th>\n",
       "      <th>contact_telephone</th>\n",
       "      <th>contact_unknown</th>\n",
       "      <th>poutcome_other</th>\n",
       "      <th>poutcome_success</th>\n",
       "      <th>poutcome_unknown</th>\n",
       "      <th>y_yes</th>\n",
       "    </tr>\n",
       "  </thead>\n",
       "  <tbody>\n",
       "    <tr>\n",
       "      <th>0</th>\n",
       "      <td>58</td>\n",
       "      <td>2143</td>\n",
       "      <td>5</td>\n",
       "      <td>5</td>\n",
       "      <td>261</td>\n",
       "      <td>1</td>\n",
       "      <td>-1</td>\n",
       "      <td>0</td>\n",
       "      <td>0</td>\n",
       "      <td>0</td>\n",
       "      <td>...</td>\n",
       "      <td>0</td>\n",
       "      <td>0</td>\n",
       "      <td>1</td>\n",
       "      <td>0</td>\n",
       "      <td>0</td>\n",
       "      <td>1</td>\n",
       "      <td>0</td>\n",
       "      <td>0</td>\n",
       "      <td>1</td>\n",
       "      <td>0</td>\n",
       "    </tr>\n",
       "    <tr>\n",
       "      <th>1</th>\n",
       "      <td>44</td>\n",
       "      <td>29</td>\n",
       "      <td>5</td>\n",
       "      <td>5</td>\n",
       "      <td>151</td>\n",
       "      <td>1</td>\n",
       "      <td>-1</td>\n",
       "      <td>0</td>\n",
       "      <td>0</td>\n",
       "      <td>0</td>\n",
       "      <td>...</td>\n",
       "      <td>0</td>\n",
       "      <td>0</td>\n",
       "      <td>1</td>\n",
       "      <td>0</td>\n",
       "      <td>0</td>\n",
       "      <td>1</td>\n",
       "      <td>0</td>\n",
       "      <td>0</td>\n",
       "      <td>1</td>\n",
       "      <td>0</td>\n",
       "    </tr>\n",
       "    <tr>\n",
       "      <th>2</th>\n",
       "      <td>33</td>\n",
       "      <td>2</td>\n",
       "      <td>5</td>\n",
       "      <td>5</td>\n",
       "      <td>76</td>\n",
       "      <td>1</td>\n",
       "      <td>-1</td>\n",
       "      <td>0</td>\n",
       "      <td>0</td>\n",
       "      <td>1</td>\n",
       "      <td>...</td>\n",
       "      <td>0</td>\n",
       "      <td>0</td>\n",
       "      <td>1</td>\n",
       "      <td>1</td>\n",
       "      <td>0</td>\n",
       "      <td>1</td>\n",
       "      <td>0</td>\n",
       "      <td>0</td>\n",
       "      <td>1</td>\n",
       "      <td>0</td>\n",
       "    </tr>\n",
       "    <tr>\n",
       "      <th>3</th>\n",
       "      <td>47</td>\n",
       "      <td>1506</td>\n",
       "      <td>5</td>\n",
       "      <td>5</td>\n",
       "      <td>92</td>\n",
       "      <td>1</td>\n",
       "      <td>-1</td>\n",
       "      <td>0</td>\n",
       "      <td>1</td>\n",
       "      <td>0</td>\n",
       "      <td>...</td>\n",
       "      <td>1</td>\n",
       "      <td>0</td>\n",
       "      <td>1</td>\n",
       "      <td>0</td>\n",
       "      <td>0</td>\n",
       "      <td>1</td>\n",
       "      <td>0</td>\n",
       "      <td>0</td>\n",
       "      <td>1</td>\n",
       "      <td>0</td>\n",
       "    </tr>\n",
       "    <tr>\n",
       "      <th>4</th>\n",
       "      <td>33</td>\n",
       "      <td>1</td>\n",
       "      <td>5</td>\n",
       "      <td>5</td>\n",
       "      <td>198</td>\n",
       "      <td>1</td>\n",
       "      <td>-1</td>\n",
       "      <td>0</td>\n",
       "      <td>0</td>\n",
       "      <td>0</td>\n",
       "      <td>...</td>\n",
       "      <td>1</td>\n",
       "      <td>0</td>\n",
       "      <td>0</td>\n",
       "      <td>0</td>\n",
       "      <td>0</td>\n",
       "      <td>1</td>\n",
       "      <td>0</td>\n",
       "      <td>0</td>\n",
       "      <td>1</td>\n",
       "      <td>0</td>\n",
       "    </tr>\n",
       "  </tbody>\n",
       "</table>\n",
       "<p>5 rows × 33 columns</p>\n",
       "</div>"
      ],
      "text/plain": [
       "   age  balance  day  month  duration  campaign  pdays  previous  \\\n",
       "0   58     2143    5      5       261         1     -1         0   \n",
       "1   44       29    5      5       151         1     -1         0   \n",
       "2   33        2    5      5        76         1     -1         0   \n",
       "3   47     1506    5      5        92         1     -1         0   \n",
       "4   33        1    5      5       198         1     -1         0   \n",
       "\n",
       "   job_blue-collar  job_entrepreneur  ...  education_unknown  default_yes  \\\n",
       "0                0                 0  ...                  0            0   \n",
       "1                0                 0  ...                  0            0   \n",
       "2                0                 1  ...                  0            0   \n",
       "3                1                 0  ...                  1            0   \n",
       "4                0                 0  ...                  1            0   \n",
       "\n",
       "   housing_yes  loan_yes  contact_telephone  contact_unknown  poutcome_other  \\\n",
       "0            1         0                  0                1               0   \n",
       "1            1         0                  0                1               0   \n",
       "2            1         1                  0                1               0   \n",
       "3            1         0                  0                1               0   \n",
       "4            0         0                  0                1               0   \n",
       "\n",
       "   poutcome_success  poutcome_unknown  y_yes  \n",
       "0                 0                 1      0  \n",
       "1                 0                 1      0  \n",
       "2                 0                 1      0  \n",
       "3                 0                 1      0  \n",
       "4                 0                 1      0  \n",
       "\n",
       "[5 rows x 33 columns]"
      ]
     },
     "execution_count": 3,
     "metadata": {},
     "output_type": "execute_result"
    }
   ],
   "source": [
    "df_nums=pd.get_dummies(df,drop_first=True)\n",
    "df_nums.head()"
   ]
  },
  {
   "cell_type": "markdown",
   "id": "88bb0c45",
   "metadata": {},
   "source": [
    "We will create the discriminative variable \"gender_male\". 1 will indicate male, and 0 female. The advantaged gender will be male. We desire the data to exhibit certain disparate impact which will reflect to the trained model as well. We need males to be more eligible for the desired state: \"y_yes\" being 1. This is why we will create the values by the help of randomization: 70% of the time the values will be the same with \"y_yes\", the rest will be picked randomly."
   ]
  },
  {
   "cell_type": "code",
   "execution_count": 4,
   "id": "a02cf61b",
   "metadata": {},
   "outputs": [
    {
     "name": "stdout",
     "output_type": "stream",
     "text": [
      "Female ratio with access to favorable class: 0.05%\n",
      "Male ratio with access to favorable class: 0.17%\n"
     ]
    }
   ],
   "source": [
    "def gen_gender(value): #Function to create unfair gender variable\n",
    "    if value==1: #If desired state       \n",
    "        if np.random.random()>0.4: #Most of the time gender will be male\n",
    "            return 1\n",
    "        else:\n",
    "            return np.random.randint(0,2)\n",
    "    else: #If not desired statate, completely random\n",
    "        return np.random.randint(0,2)\n",
    "\n",
    "df_nums[\"gender_male\"]=df_nums.y_yes.apply(gen_gender) #Create the variable\n",
    "\n",
    "#Calculate disparate impact: Difference between ratios of access of genders to advantaged class\n",
    "fem_adv=df_nums[(df_nums.gender_male==0) & (df_nums.y_yes==1)].shape[0]/df_nums[df_nums.gender_male==0].shape[0]\n",
    "men_adv=df_nums[(df_nums.gender_male==1) & (df_nums.y_yes==1)].shape[0]/df_nums[df_nums.gender_male==1].shape[0]\n",
    "print(f\"Female ratio with access to favorable class: {fem_adv:.2f}%\")\n",
    "print(f\"Male ratio with access to favorable class: {men_adv:.2f}%\")"
   ]
  },
  {
   "cell_type": "markdown",
   "id": "bfef211e",
   "metadata": {},
   "source": [
    "We have successfully created the gender variable so that the data is skewed towards males in terms of owning the favorable \"y_yes\" class."
   ]
  },
  {
   "cell_type": "code",
   "execution_count": 5,
   "id": "e9495bd8",
   "metadata": {},
   "outputs": [
    {
     "name": "stdout",
     "output_type": "stream",
     "text": [
      "30291 14920\n"
     ]
    }
   ],
   "source": [
    "#Split train and test\n",
    "x_train, x_test, y_train, y_test = train_test_split(df_nums.drop(columns=[\"y_yes\"]), df_nums[\"y_yes\"], test_size=0.33, random_state=42)\n",
    "print(x_train.shape[0], x_test.shape[0]) #Take a look at the number of specimen in the split"
   ]
  },
  {
   "cell_type": "code",
   "execution_count": 11,
   "id": "d57b59a2",
   "metadata": {},
   "outputs": [
    {
     "name": "stdout",
     "output_type": "stream",
     "text": [
      "0.8269122841768182\n",
      "0.8217828418230563\n",
      "Wall time: 1min 25s\n"
     ]
    }
   ],
   "source": [
    "%%time\n",
    "model= RandomForestClassifier(n_estimators=1000, max_depth=4,class_weight =\"balanced\")\n",
    "model.fit(x_train, y_train)\n",
    "\n",
    "#Predict Output\n",
    "y_pred_train = model.predict(x_train)\n",
    "y_pred_test = model.predict(x_test)\n",
    "\n",
    "#Accuracy\n",
    "print(accuracy_score(y_train,y_pred_train))\n",
    "print(accuracy_score(y_test,y_pred_test))"
   ]
  },
  {
   "cell_type": "markdown",
   "id": "1f817a47",
   "metadata": {},
   "source": [
    "Random forest debiasing for \"gender_male\""
   ]
  },
  {
   "cell_type": "markdown",
   "id": "475b612e",
   "metadata": {},
   "source": [
    "Results are not too bad. We need to check the difference of equality of opportunity on gender variable."
   ]
  },
  {
   "cell_type": "code",
   "execution_count": 51,
   "id": "e3e8fe7e",
   "metadata": {},
   "outputs": [],
   "source": [
    "def diff_eoo(y,pred,disc): #Function to calculate difference of equality of opportunity\n",
    "    data=list(zip(y,pred,disc))\n",
    "    data=pd.DataFrame(data,columns=[\"y\",\"pred\",\"disc\"])\n",
    "    #Opportunity achievement rate of advantaged and disadvantaged individuals\n",
    "    opp_adv=data[(data.disc==1) & (data.y==1) & (data.pred==1)].shape[0]/data[(data.disc==1) & (data.y==1)].shape[0]\n",
    "    opp_dis=data[(data.disc==0) & (data.y==1) & (data.pred==1)].shape[0]/data[(data.disc==0) & (data.y==1)].shape[0]\n",
    "    return round(opp_adv-opp_dis,2) #Difference of equality of opportunity"
   ]
  },
  {
   "cell_type": "code",
   "execution_count": 13,
   "id": "11d1256e",
   "metadata": {},
   "outputs": [
    {
     "name": "stdout",
     "output_type": "stream",
     "text": [
      "Difference of equality of opportunity: 0.32\n"
     ]
    }
   ],
   "source": [
    "disc=x_test.gender_male.values #Values of discriminative variable as a list\n",
    "y=y_test.values #Values of prediction variable as a list\n",
    "print(\"Difference of equality of opportunity:\",diff_eoo(y,y_pred_test,disc))"
   ]
  },
  {
   "cell_type": "markdown",
   "id": "fd772d01",
   "metadata": {},
   "source": [
    "30% is a serious difference of equality of opportunity rate. Let's see this score and accuracies for each tree."
   ]
  },
  {
   "cell_type": "code",
   "execution_count": 14,
   "id": "ba42f42c",
   "metadata": {},
   "outputs": [
    {
     "name": "stdout",
     "output_type": "stream",
     "text": [
      "Wall time: 2min 6s\n"
     ]
    },
    {
     "data": {
      "text/html": [
       "<div>\n",
       "<style scoped>\n",
       "    .dataframe tbody tr th:only-of-type {\n",
       "        vertical-align: middle;\n",
       "    }\n",
       "\n",
       "    .dataframe tbody tr th {\n",
       "        vertical-align: top;\n",
       "    }\n",
       "\n",
       "    .dataframe thead th {\n",
       "        text-align: right;\n",
       "    }\n",
       "</style>\n",
       "<table border=\"1\" class=\"dataframe\">\n",
       "  <thead>\n",
       "    <tr style=\"text-align: right;\">\n",
       "      <th></th>\n",
       "      <th>Diff</th>\n",
       "      <th>Acc</th>\n",
       "    </tr>\n",
       "  </thead>\n",
       "  <tbody>\n",
       "    <tr>\n",
       "      <th>0</th>\n",
       "      <td>0.49</td>\n",
       "      <td>0.80</td>\n",
       "    </tr>\n",
       "    <tr>\n",
       "      <th>1</th>\n",
       "      <td>0.09</td>\n",
       "      <td>0.75</td>\n",
       "    </tr>\n",
       "    <tr>\n",
       "      <th>2</th>\n",
       "      <td>0.02</td>\n",
       "      <td>0.64</td>\n",
       "    </tr>\n",
       "    <tr>\n",
       "      <th>3</th>\n",
       "      <td>0.64</td>\n",
       "      <td>0.66</td>\n",
       "    </tr>\n",
       "    <tr>\n",
       "      <th>4</th>\n",
       "      <td>0.01</td>\n",
       "      <td>0.64</td>\n",
       "    </tr>\n",
       "  </tbody>\n",
       "</table>\n",
       "</div>"
      ],
      "text/plain": [
       "   Diff   Acc\n",
       "0  0.49  0.80\n",
       "1  0.09  0.75\n",
       "2  0.02  0.64\n",
       "3  0.64  0.66\n",
       "4  0.01  0.64"
      ]
     },
     "execution_count": 14,
     "metadata": {},
     "output_type": "execute_result"
    }
   ],
   "source": [
    "%%time\n",
    "tree_scores=[] #Declare empty array to collect the scores of each tree\n",
    "tree_preds=[] #Collect the predictions\n",
    "\n",
    "for tree in model.estimators_:\n",
    "    iter_pred=tree.predict(x_test) #Predictions for the current tree\n",
    "    iter_acc=round(accuracy_score(y,iter_pred),2) #Accuracy of current tree\n",
    "    iter_diff=round(diff_eoo(y,iter_pred,disc),2) #Difference of equality of opportunity of current tree\n",
    "    tree_scores.append([iter_diff,iter_acc]) #Collect scores of each tree\n",
    "    tree_preds.append(iter_pred)\n",
    "\n",
    "tree_scores=pd.DataFrame(tree_scores,columns=[\"Diff\",\"Acc\"])\n",
    "tree_scores.head()"
   ]
  },
  {
   "cell_type": "code",
   "execution_count": 15,
   "id": "d99104fd",
   "metadata": {},
   "outputs": [
    {
     "data": {
      "text/plain": [
       "<AxesSubplot:ylabel='Frequency'>"
      ]
     },
     "execution_count": 15,
     "metadata": {},
     "output_type": "execute_result"
    },
    {
     "data": {
      "image/png": "[encoded data removed]",
      "text/plain": [
       "<Figure size 432x288 with 1 Axes>"
      ]
     },
     "metadata": {
      "needs_background": "light"
     },
     "output_type": "display_data"
    }
   ],
   "source": [
    "#Let's plot the histogram of the diff_eoo's for all the trees\n",
    "tree_scores[\"Diff\"].plot.hist()"
   ]
  },
  {
   "cell_type": "markdown",
   "id": "e844e948",
   "metadata": {},
   "source": [
    "The highest vote based random forest yielded roughly 30% difference of equality of opportunity. Each tree had equal rights to vote. We can make the model fairer by assigning more weight to fairer trees. "
   ]
  },
  {
   "cell_type": "code",
   "execution_count": 16,
   "id": "6fedaee5",
   "metadata": {},
   "outputs": [],
   "source": [
    "#We take absolute of the diff of eoo's. The reverse of the discrimination is also not desired.\n",
    "tree_scores[\"Diff_abs\"]=np.abs(tree_scores[\"Diff\"])"
   ]
  },
  {
   "cell_type": "code",
   "execution_count": 17,
   "id": "71c42865",
   "metadata": {},
   "outputs": [],
   "source": [
    "def weights(diff_eoo,alpha=1): #Assign weights: As alpha increases the weights of fair trees increase\n",
    "    w_raw=np.exp(diff_eoo)**(-1*alpha) #(1/(e^diff_eoo))^alpha\n",
    "    return w_raw/np.sum(w_raw)"
   ]
  },
  {
   "cell_type": "code",
   "execution_count": 18,
   "id": "79494eed",
   "metadata": {},
   "outputs": [
    {
     "data": {
      "text/html": [
       "<div>\n",
       "<style scoped>\n",
       "    .dataframe tbody tr th:only-of-type {\n",
       "        vertical-align: middle;\n",
       "    }\n",
       "\n",
       "    .dataframe tbody tr th {\n",
       "        vertical-align: top;\n",
       "    }\n",
       "\n",
       "    .dataframe thead th {\n",
       "        text-align: right;\n",
       "    }\n",
       "</style>\n",
       "<table border=\"1\" class=\"dataframe\">\n",
       "  <thead>\n",
       "    <tr style=\"text-align: right;\">\n",
       "      <th></th>\n",
       "      <th>Diff</th>\n",
       "      <th>Acc</th>\n",
       "      <th>Diff_abs</th>\n",
       "      <th>weight</th>\n",
       "    </tr>\n",
       "  </thead>\n",
       "  <tbody>\n",
       "    <tr>\n",
       "      <th>0</th>\n",
       "      <td>0.49</td>\n",
       "      <td>0.80</td>\n",
       "      <td>0.49</td>\n",
       "      <td>1.697081e-05</td>\n",
       "    </tr>\n",
       "    <tr>\n",
       "      <th>1</th>\n",
       "      <td>0.09</td>\n",
       "      <td>0.75</td>\n",
       "      <td>0.09</td>\n",
       "      <td>9.265746e-04</td>\n",
       "    </tr>\n",
       "    <tr>\n",
       "      <th>2</th>\n",
       "      <td>0.02</td>\n",
       "      <td>0.64</td>\n",
       "      <td>0.02</td>\n",
       "      <td>1.865892e-03</td>\n",
       "    </tr>\n",
       "    <tr>\n",
       "      <th>3</th>\n",
       "      <td>0.64</td>\n",
       "      <td>0.66</td>\n",
       "      <td>0.64</td>\n",
       "      <td>3.786698e-06</td>\n",
       "    </tr>\n",
       "    <tr>\n",
       "      <th>4</th>\n",
       "      <td>0.01</td>\n",
       "      <td>0.64</td>\n",
       "      <td>0.01</td>\n",
       "      <td>2.062130e-03</td>\n",
       "    </tr>\n",
       "    <tr>\n",
       "      <th>5</th>\n",
       "      <td>0.62</td>\n",
       "      <td>0.78</td>\n",
       "      <td>0.62</td>\n",
       "      <td>4.625084e-06</td>\n",
       "    </tr>\n",
       "    <tr>\n",
       "      <th>6</th>\n",
       "      <td>-0.01</td>\n",
       "      <td>0.72</td>\n",
       "      <td>0.01</td>\n",
       "      <td>2.062130e-03</td>\n",
       "    </tr>\n",
       "    <tr>\n",
       "      <th>7</th>\n",
       "      <td>0.80</td>\n",
       "      <td>0.53</td>\n",
       "      <td>0.80</td>\n",
       "      <td>7.645212e-07</td>\n",
       "    </tr>\n",
       "    <tr>\n",
       "      <th>8</th>\n",
       "      <td>-0.02</td>\n",
       "      <td>0.68</td>\n",
       "      <td>0.02</td>\n",
       "      <td>1.865892e-03</td>\n",
       "    </tr>\n",
       "    <tr>\n",
       "      <th>9</th>\n",
       "      <td>0.40</td>\n",
       "      <td>0.50</td>\n",
       "      <td>0.40</td>\n",
       "      <td>4.174144e-05</td>\n",
       "    </tr>\n",
       "  </tbody>\n",
       "</table>\n",
       "</div>"
      ],
      "text/plain": [
       "   Diff   Acc  Diff_abs        weight\n",
       "0  0.49  0.80      0.49  1.697081e-05\n",
       "1  0.09  0.75      0.09  9.265746e-04\n",
       "2  0.02  0.64      0.02  1.865892e-03\n",
       "3  0.64  0.66      0.64  3.786698e-06\n",
       "4  0.01  0.64      0.01  2.062130e-03\n",
       "5  0.62  0.78      0.62  4.625084e-06\n",
       "6 -0.01  0.72      0.01  2.062130e-03\n",
       "7  0.80  0.53      0.80  7.645212e-07\n",
       "8 -0.02  0.68      0.02  1.865892e-03\n",
       "9  0.40  0.50      0.40  4.174144e-05"
      ]
     },
     "execution_count": 18,
     "metadata": {},
     "output_type": "execute_result"
    }
   ],
   "source": [
    "tree_scores[\"weight\"]=weights(tree_scores[\"Diff_abs\"],alpha=10)\n",
    "tree_scores[:10]"
   ]
  },
  {
   "cell_type": "code",
   "execution_count": 19,
   "id": "b0cd85a2",
   "metadata": {},
   "outputs": [
    {
     "data": {
      "text/plain": [
       "(1000, 14920)"
      ]
     },
     "execution_count": 19,
     "metadata": {},
     "output_type": "execute_result"
    }
   ],
   "source": [
    "#Weighted predictions of all trees\n",
    "pred_w=[np.multiply(tree_preds[i],tree_scores.loc[i,\"weight\"]) for i in range(0,len(model.estimators_))]\n",
    "pred_w=np.array(pred_w)\n",
    "pred_w.shape"
   ]
  },
  {
   "cell_type": "code",
   "execution_count": 20,
   "id": "a1f4ce9c",
   "metadata": {},
   "outputs": [
    {
     "data": {
      "text/plain": [
       "array([0., 0., 0., 1., 0., 0., 0., 0., 0., 1.])"
      ]
     },
     "execution_count": 20,
     "metadata": {},
     "output_type": "execute_result"
    }
   ],
   "source": [
    "#We sum the weighted predictions of each tree, for each data point, then label them by the cut-off 0.5\n",
    "fair_pred=np.round(pred_w.sum(axis=0))\n",
    "fair_pred[:10]"
   ]
  },
  {
   "cell_type": "code",
   "execution_count": 21,
   "id": "39905684",
   "metadata": {},
   "outputs": [
    {
     "name": "stdout",
     "output_type": "stream",
     "text": [
      "Difference of equality of opportunity: 0.02\n",
      "Accuracy: 0.81\n"
     ]
    }
   ],
   "source": [
    "#Let's calculate the difference of equality of opportunity\n",
    "print(\"Difference of equality of opportunity:\",diff_eoo(y,fair_pred,disc))\n",
    "print(\"Accuracy:\",round(accuracy_score(y,fair_pred),2))"
   ]
  },
  {
   "cell_type": "markdown",
   "id": "14f23e5e",
   "metadata": {},
   "source": [
    "We have made the model much fairer without losing much accuracy compared to the model default. The selection of weights is very important to adjust accuracy-fairness trade-off. It depends on the alpha parameter. The higher the alpha, the higher the gap between the weights of fair trees and unfair trees. We need to compare the confusion matrices of the original predictions and fair predictions to see the complete picture of the impact of our weighted fair decision."
   ]
  },
  {
   "cell_type": "code",
   "execution_count": 22,
   "id": "63a2f716",
   "metadata": {},
   "outputs": [
    {
     "data": {
      "image/png": "[encoded data removed]",
      "text/plain": [
       "<Figure size 720x288 with 4 Axes>"
      ]
     },
     "metadata": {
      "needs_background": "light"
     },
     "output_type": "display_data"
    }
   ],
   "source": [
    "fig, axes = plt.subplots(nrows=1, ncols=2, figsize=(10, 4))\n",
    "ConfusionMatrixDisplay(confusion_matrix(y,y_pred_test),display_labels=[0,1]).plot(ax=axes[0])\n",
    "axes[0].set_title(\"Test Predictions\")\n",
    "ConfusionMatrixDisplay(confusion_matrix(y,fair_pred),display_labels=[0,1]).plot(ax=axes[1])\n",
    "axes[1].set_title(\"Fair Predictions\")\n",
    "fig.tight_layout()"
   ]
  },
  {
   "cell_type": "markdown",
   "id": "ddd1a189",
   "metadata": {},
   "source": [
    "<h3>Random forest debiasing for \"job_retired\"</h3>"
   ]
  },
  {
   "cell_type": "markdown",
   "id": "05c54236",
   "metadata": {},
   "source": [
    "In our case, since we have produced the discriminative variable ourselves, the other variables were likely not to explain this made variable. But in many scenarios, data has historical bias present in variables. An effective way to test the assumption that our success was merely due to the non-existing historical bias, we could pick an existing binary variable in the data with strong correlations with other variables. This binary variable will be treated as discriminative variable. It will be challenged with the same procedure as above. We also need to make sure that it represents certain disparate impact just as our made gender variable."
   ]
  },
  {
   "cell_type": "code",
   "execution_count": 38,
   "id": "46a55d0e",
   "metadata": {},
   "outputs": [
    {
     "name": "stdout",
     "output_type": "stream",
     "text": [
      "Disadvantaged class ratio with access to favorable class: 0.11%\n",
      "Advantaged ratio with access to favorable class: 0.23%\n"
     ]
    }
   ],
   "source": [
    "disc_var=\"job_retired\"\n",
    "#Calculate disparate impact: Difference between ratios of access of genders to favorable class\n",
    "group_dis=df_nums[(df_nums[disc_var]==0) & (df_nums.y_yes==1)].shape[0]/df_nums[df_nums[disc_var]==0].shape[0]\n",
    "group_adv=df_nums[(df_nums[disc_var]==1) & (df_nums.y_yes==1)].shape[0]/df_nums[df_nums[disc_var]==1].shape[0]\n",
    "print(f\"Disadvantaged class ratio with access to favorable class: {group_dis:.2f}%\")\n",
    "print(f\"Advantaged ratio with access to favorable class: {group_adv:.2f}%\")"
   ]
  },
  {
   "cell_type": "markdown",
   "id": "7fc035c4",
   "metadata": {},
   "source": [
    "\"job_retired\" is a good binary variable which we will claim to be sensitive variable (such as race and class) so we will be able to see the debiasing random forest in action with an organic variable embedded in the model. Let's see the correlations of \"job_student\" with other variables."
   ]
  },
  {
   "cell_type": "code",
   "execution_count": 39,
   "id": "1b3fad7c",
   "metadata": {},
   "outputs": [
    {
     "data": {
      "text/plain": [
       "age                    0.447378\n",
       "balance                0.046900\n",
       "day                   -0.010123\n",
       "month                  0.024953\n",
       "duration               0.026032\n",
       "campaign              -0.030913\n",
       "pdays                 -0.006315\n",
       "previous               0.005818\n",
       "job_blue-collar       -0.120251\n",
       "job_entrepreneur      -0.042342\n",
       "job_housemaid         -0.038557\n",
       "job_management        -0.118091\n",
       "job_retired            1.000000\n",
       "job_self-employed     -0.043678\n",
       "job_services          -0.073032\n",
       "job_student           -0.033420\n",
       "job_technician        -0.103185\n",
       "job_unemployed        -0.039552\n",
       "job_unknown           -0.018384\n",
       "marital_married        0.076288\n",
       "marital_single        -0.119892\n",
       "education_secondary   -0.036089\n",
       "education_tertiary    -0.066780\n",
       "education_unknown      0.013290\n",
       "default_yes           -0.011290\n",
       "housing_yes           -0.156633\n",
       "loan_yes              -0.014861\n",
       "contact_telephone      0.107299\n",
       "contact_unknown       -0.036504\n",
       "poutcome_other        -0.004691\n",
       "poutcome_success       0.055485\n",
       "poutcome_unknown      -0.019368\n",
       "y_yes                  0.079245\n",
       "gender_male            0.016322\n",
       "Name: job_retired, dtype: float64"
      ]
     },
     "execution_count": 39,
     "metadata": {},
     "output_type": "execute_result"
    }
   ],
   "source": [
    "df_nums.corr()[\"job_retired\"]"
   ]
  },
  {
   "cell_type": "markdown",
   "id": "411e9c96",
   "metadata": {},
   "source": [
    "It is linearly correlated with a few variables to a certain degree. We do not require training new model. We will utilize the existing random forest model and its trees."
   ]
  },
  {
   "cell_type": "code",
   "execution_count": 40,
   "id": "a7945085",
   "metadata": {},
   "outputs": [
    {
     "name": "stdout",
     "output_type": "stream",
     "text": [
      "Difference of equality of opportunity: 0.11\n"
     ]
    }
   ],
   "source": [
    "disc=x_test.job_retired.values #Values of discriminative variable as a list\n",
    "#We have y, and y_pred already defined to calculate difference of eoo.  \n",
    "print(\"Difference of equality of opportunity:\",diff_eoo(y,y_pred_test,disc))"
   ]
  },
  {
   "cell_type": "markdown",
   "id": "0f3fe747",
   "metadata": {},
   "source": [
    "Since the difference of eoo is modest, the target will be zeroing the bias out with the same procedure applied to \"gender_male\" previously."
   ]
  },
  {
   "cell_type": "code",
   "execution_count": 41,
   "id": "fa1f51d4",
   "metadata": {},
   "outputs": [
    {
     "name": "stdout",
     "output_type": "stream",
     "text": [
      "Wall time: 2min 16s\n"
     ]
    },
    {
     "data": {
      "text/html": [
       "<div>\n",
       "<style scoped>\n",
       "    .dataframe tbody tr th:only-of-type {\n",
       "        vertical-align: middle;\n",
       "    }\n",
       "\n",
       "    .dataframe tbody tr th {\n",
       "        vertical-align: top;\n",
       "    }\n",
       "\n",
       "    .dataframe thead th {\n",
       "        text-align: right;\n",
       "    }\n",
       "</style>\n",
       "<table border=\"1\" class=\"dataframe\">\n",
       "  <thead>\n",
       "    <tr style=\"text-align: right;\">\n",
       "      <th></th>\n",
       "      <th>Diff</th>\n",
       "      <th>Acc</th>\n",
       "    </tr>\n",
       "  </thead>\n",
       "  <tbody>\n",
       "    <tr>\n",
       "      <th>0</th>\n",
       "      <td>-0.01</td>\n",
       "      <td>0.80</td>\n",
       "    </tr>\n",
       "    <tr>\n",
       "      <th>1</th>\n",
       "      <td>0.02</td>\n",
       "      <td>0.75</td>\n",
       "    </tr>\n",
       "    <tr>\n",
       "      <th>2</th>\n",
       "      <td>0.12</td>\n",
       "      <td>0.64</td>\n",
       "    </tr>\n",
       "    <tr>\n",
       "      <th>3</th>\n",
       "      <td>0.16</td>\n",
       "      <td>0.66</td>\n",
       "    </tr>\n",
       "    <tr>\n",
       "      <th>4</th>\n",
       "      <td>0.26</td>\n",
       "      <td>0.64</td>\n",
       "    </tr>\n",
       "  </tbody>\n",
       "</table>\n",
       "</div>"
      ],
      "text/plain": [
       "   Diff   Acc\n",
       "0 -0.01  0.80\n",
       "1  0.02  0.75\n",
       "2  0.12  0.64\n",
       "3  0.16  0.66\n",
       "4  0.26  0.64"
      ]
     },
     "execution_count": 41,
     "metadata": {},
     "output_type": "execute_result"
    }
   ],
   "source": [
    "%%time\n",
    "tree_scores=[] #Declare empty array to collect the scores of each tree\n",
    "tree_preds=[] #Collect the predictions\n",
    "\n",
    "for tree in model.estimators_:\n",
    "    iter_pred=tree.predict(x_test) #Predictions for the current tree\n",
    "    iter_acc=round(accuracy_score(y,iter_pred),2) #Accuracy of current tree\n",
    "    iter_diff=round(diff_eoo(y,iter_pred,disc),2) #Difference of equality of opportunity of current tree\n",
    "    tree_scores.append([iter_diff,iter_acc]) #Collect scores of each tree\n",
    "    tree_preds.append(iter_pred)\n",
    "\n",
    "tree_scores=pd.DataFrame(tree_scores,columns=[\"Diff\",\"Acc\"])\n",
    "tree_scores.head()"
   ]
  },
  {
   "cell_type": "code",
   "execution_count": 45,
   "id": "604cfe61",
   "metadata": {},
   "outputs": [
    {
     "data": {
      "text/html": [
       "<div>\n",
       "<style scoped>\n",
       "    .dataframe tbody tr th:only-of-type {\n",
       "        vertical-align: middle;\n",
       "    }\n",
       "\n",
       "    .dataframe tbody tr th {\n",
       "        vertical-align: top;\n",
       "    }\n",
       "\n",
       "    .dataframe thead th {\n",
       "        text-align: right;\n",
       "    }\n",
       "</style>\n",
       "<table border=\"1\" class=\"dataframe\">\n",
       "  <thead>\n",
       "    <tr style=\"text-align: right;\">\n",
       "      <th></th>\n",
       "      <th>Diff</th>\n",
       "      <th>Acc</th>\n",
       "      <th>Diff_abs</th>\n",
       "      <th>weight</th>\n",
       "    </tr>\n",
       "  </thead>\n",
       "  <tbody>\n",
       "    <tr>\n",
       "      <th>0</th>\n",
       "      <td>-0.01</td>\n",
       "      <td>0.80</td>\n",
       "      <td>0.01</td>\n",
       "      <td>0.001942</td>\n",
       "    </tr>\n",
       "    <tr>\n",
       "      <th>1</th>\n",
       "      <td>0.02</td>\n",
       "      <td>0.75</td>\n",
       "      <td>0.02</td>\n",
       "      <td>0.001757</td>\n",
       "    </tr>\n",
       "    <tr>\n",
       "      <th>2</th>\n",
       "      <td>0.12</td>\n",
       "      <td>0.64</td>\n",
       "      <td>0.12</td>\n",
       "      <td>0.000646</td>\n",
       "    </tr>\n",
       "    <tr>\n",
       "      <th>3</th>\n",
       "      <td>0.16</td>\n",
       "      <td>0.66</td>\n",
       "      <td>0.16</td>\n",
       "      <td>0.000433</td>\n",
       "    </tr>\n",
       "    <tr>\n",
       "      <th>4</th>\n",
       "      <td>0.26</td>\n",
       "      <td>0.64</td>\n",
       "      <td>0.26</td>\n",
       "      <td>0.000159</td>\n",
       "    </tr>\n",
       "    <tr>\n",
       "      <th>5</th>\n",
       "      <td>0.21</td>\n",
       "      <td>0.78</td>\n",
       "      <td>0.21</td>\n",
       "      <td>0.000263</td>\n",
       "    </tr>\n",
       "    <tr>\n",
       "      <th>6</th>\n",
       "      <td>-0.02</td>\n",
       "      <td>0.72</td>\n",
       "      <td>0.02</td>\n",
       "      <td>0.001757</td>\n",
       "    </tr>\n",
       "    <tr>\n",
       "      <th>7</th>\n",
       "      <td>0.04</td>\n",
       "      <td>0.53</td>\n",
       "      <td>0.04</td>\n",
       "      <td>0.001439</td>\n",
       "    </tr>\n",
       "    <tr>\n",
       "      <th>8</th>\n",
       "      <td>0.06</td>\n",
       "      <td>0.68</td>\n",
       "      <td>0.06</td>\n",
       "      <td>0.001178</td>\n",
       "    </tr>\n",
       "    <tr>\n",
       "      <th>9</th>\n",
       "      <td>0.11</td>\n",
       "      <td>0.50</td>\n",
       "      <td>0.11</td>\n",
       "      <td>0.000714</td>\n",
       "    </tr>\n",
       "  </tbody>\n",
       "</table>\n",
       "</div>"
      ],
      "text/plain": [
       "   Diff   Acc  Diff_abs    weight\n",
       "0 -0.01  0.80      0.01  0.001942\n",
       "1  0.02  0.75      0.02  0.001757\n",
       "2  0.12  0.64      0.12  0.000646\n",
       "3  0.16  0.66      0.16  0.000433\n",
       "4  0.26  0.64      0.26  0.000159\n",
       "5  0.21  0.78      0.21  0.000263\n",
       "6 -0.02  0.72      0.02  0.001757\n",
       "7  0.04  0.53      0.04  0.001439\n",
       "8  0.06  0.68      0.06  0.001178\n",
       "9  0.11  0.50      0.11  0.000714"
      ]
     },
     "execution_count": 45,
     "metadata": {},
     "output_type": "execute_result"
    }
   ],
   "source": [
    "#We take absolute of the diff of eoo's. The reverse of the discrimination is also not desired.\n",
    "tree_scores[\"Diff_abs\"]=np.abs(tree_scores[\"Diff\"])\n",
    "#Calculate weights so that the fair trees will have more in the say of predicted class of a data point\n",
    "tree_scores[\"weight\"]=weights(tree_scores[\"Diff_abs\"],alpha=10)\n",
    "tree_scores[:10]"
   ]
  },
  {
   "cell_type": "code",
   "execution_count": 46,
   "id": "d15e8c4e",
   "metadata": {},
   "outputs": [
    {
     "name": "stdout",
     "output_type": "stream",
     "text": [
      "Difference of equality of opportunity: 0.01\n",
      "Accuracy: 0.79\n"
     ]
    }
   ],
   "source": [
    "#Weighted predictions of all trees\n",
    "pred_w=[np.multiply(tree_preds[i],tree_scores.loc[i,\"weight\"]) for i in range(0,len(model.estimators_))]\n",
    "pred_w=np.array(pred_w)\n",
    "#We sum the weighted predictions of each tree, for each data point, then label them by the cut-off 0.5\n",
    "fair_pred=np.round(pred_w.sum(axis=0))\n",
    "#Let's calculate the difference of equality of opportunity\n",
    "print(\"Difference of equality of opportunity:\",diff_eoo(y,fair_pred,disc))\n",
    "print(\"Accuracy:\",round(accuracy_score(y,fair_pred),2))"
   ]
  },
  {
   "cell_type": "markdown",
   "id": "3763c613",
   "metadata": {},
   "source": [
    "The weighted prediction of trees were able to decrease the difference of equality of opportunity for feature \"job_retired\" from 0.11 down to 0.01 successfully. Both our synthetically made and organic model features with correlations with other features proved effective with this debiasing method. The lose of accuracy in the process is not negligible but tolerable."
   ]
  },
  {
   "cell_type": "code",
   "execution_count": 47,
   "id": "21fa1b0a",
   "metadata": {},
   "outputs": [
    {
     "data": {
      "image/png": "[encoded data removed]",
      "text/plain": [
       "<Figure size 720x288 with 4 Axes>"
      ]
     },
     "metadata": {
      "needs_background": "light"
     },
     "output_type": "display_data"
    }
   ],
   "source": [
    "fig, axes = plt.subplots(nrows=1, ncols=2, figsize=(10, 4))\n",
    "ConfusionMatrixDisplay(confusion_matrix(y,y_pred_test),display_labels=[0,1]).plot(ax=axes[0])\n",
    "axes[0].set_title(\"Test Predictions\")\n",
    "ConfusionMatrixDisplay(confusion_matrix(y,fair_pred),display_labels=[0,1]).plot(ax=axes[1])\n",
    "axes[1].set_title(\"Fair Predictions\")\n",
    "fig.tight_layout()"
   ]
  },
  {
   "cell_type": "markdown",
   "id": "3321fe2d",
   "metadata": {},
   "source": [
    "<h3>Difference of EOO for Different Values of Alpha</h3>"
   ]
  },
  {
   "cell_type": "code",
   "execution_count": 91,
   "id": "0ef32fe2",
   "metadata": {},
   "outputs": [
    {
     "name": "stdout",
     "output_type": "stream",
     "text": [
      "Wall time: 5min 13s\n"
     ]
    }
   ],
   "source": [
    "%%time\n",
    "accuracy=[] #Initiate an array to collect accuracy values \n",
    "diff_eoos=[] #Initita an array to collect diff_eoo\n",
    "alphas=[] #Collect alphas\n",
    "\n",
    "for alpha in np.arange(0,100,0.5): #Start from zero and increase alpha\n",
    "    iter_w=weights(tree_scores[\"Diff_abs\"],alpha=alpha)\n",
    "    #Weighted predictions of all trees\n",
    "    pred_w=[np.multiply(tree_preds[i],iter_w[i]) for i in range(0,len(model.estimators_))]\n",
    "    pred_w=np.array(pred_w)\n",
    "    fair_pred=np.round(pred_w.sum(axis=0)) #Fair predictions\n",
    "    accuracy.append(accuracy_score(y,fair_pred))\n",
    "    diff_eoos.append(diff_eoo(y,fair_pred,disc))\n",
    "    alphas.append(alpha)"
   ]
  },
  {
   "cell_type": "code",
   "execution_count": 109,
   "id": "4a3c70af",
   "metadata": {},
   "outputs": [
    {
     "data": {
      "image/png": "[encoded data removed]",
      "text/plain": [
       "<Figure size 720x288 with 2 Axes>"
      ]
     },
     "metadata": {},
     "output_type": "display_data"
    }
   ],
   "source": [
    "plt.style.use('dark_background')\n",
    "fig, ax1 = plt.subplots(figsize=(10, 4))\n",
    "ax2 = ax1.twinx()\n",
    "#Our objective: 0 discrimination\n",
    "ax2.text(95,0.005,\"Objective\",color=\"silver\")\n",
    "ax2.axhline(0, color='silver',linestyle =\"--\")\n",
    "ax1.set_xlabel(\"Alpha\")\n",
    "ax1.plot(alphas,accuracy,label=\"accuracy\",color=\"purple\")\n",
    "ax2.plot(alphas,diff_eoos,label=\"dif_eoo\",color=\"orange\")\n",
    "ax2.tick_params(axis=\"y\",colors=\"orange\")\n",
    "ax1.tick_params(axis=\"y\",colors=\"purple\")\n",
    "fig.legend()\n",
    "plt.show()"
   ]
  },
  {
   "cell_type": "markdown",
   "id": "41b5e29e",
   "metadata": {},
   "source": [
    "As the alpha increases, it increases the impact of the fairer trees in label of observations, this is why the difference of equality of opportunity decreases. The accuracy also decreases with it, since we prefer fairer decisions over accurate decisions. The trees with the information of discriminative class in the desired outputs coming are preferred less and less even though they explain a portion of the prediction variable. \n",
    "\n",
    "The reason the difference of equality of opportunity score goes below zero is that we have trees in the ensemble that applies the discrimination in the reversed direction. The advantaged label turns disadvantanged. As the weight gap between fair/non-fair trees increase, the predominancy of the usual discrimination is lifted and the trees with lower discrimination scores compete within each other. It seems that as the alpha value increases, the trees with opposite type of discrimination becomes dominant. If there are enough trees in the ensemble to create variety of scores, we should finally expect the convergence to 0 difference of equality of opportunity. For this objective, we need to pick an alpha more than 100. But we will leave this to further studies.\n",
    "\n",
    "The best alpha here is the one which sustains our objective best: minimal or no difference of equality of opportunity and as much accuracy as possible. Ideally, it is between 15 and 20."
   ]
  }
 ],
 "metadata": {
  "kernelspec": {
   "display_name": "Python 3",
   "language": "python",
   "name": "python3"
  },
  "language_info": {
   "codemirror_mode": {
    "name": "ipython",
    "version": 3
   },
   "file_extension": ".py",
   "mimetype": "text/x-python",
   "name": "python",
   "nbconvert_exporter": "python",
   "pygments_lexer": "ipython3",
   "version": "3.8.5"
  }
 },
 "nbformat": 4,
 "nbformat_minor": 5
}
